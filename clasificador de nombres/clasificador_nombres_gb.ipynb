{
 "cells": [
  {
   "cell_type": "markdown",
   "metadata": {},
   "source": [
    "# Clasificador de Nombres con Gradient Boosting (Jupyter Notebook)\n",
    "\n",
    "Este notebook implementa un clasificador de nombres utilizando Gradient Boosting de scikit-learn. El objetivo es predecir el género de un nombre basándose en algunas características simples."
   ]
  },
  {
   "cell_type": "markdown",
   "metadata": {},
   "source": [
    "## Importar Librerías"
   ]
  },
  {
   "cell_type": "code",
   "execution_count": null,
   "metadata": {},
   "outputs": [],
   "source": [
    "import pandas as pd\n",
    "from sklearn.model_selection import train_test_split, cross_val_score\n",
    "from sklearn.ensemble import GradientBoostingClassifier\n",
    "from sklearn.metrics import accuracy_score\n",
    "from sklearn.feature_extraction import DictVectorizer"
   ]
  },
  {
   "cell_type": "markdown",
   "metadata": {},
   "source": [
    "## Definir Funciones para Extracción de Características y Preparación de Datos"
   ]
  },
  {
   "cell_type": "code",
   "execution_count": null,
   "metadata": {},
   "outputs": [],
   "source": [
    "def extraer_caracteristicas(nombre):\n",
    "    \"\"\"\n",
    "    Extrae características simples de un nombre.\n",
    "    En este caso, usamos la última letra y la longitud del nombre.\n",
    "    \"\"\"\n",
    "    return {\n",
    "        'ultima_letra': nombre[-1].lower(),\n",
    "        'longitud': len(nombre)\n",
    "    }\n",
    "\n",
    "def preparar_datos(nombres):\n",
    "    \"\"\"\n",
    "    Prepara los datos para el entrenamiento del clasificador.\n",
    "    Crea un DataFrame con características extraídas y etiquetas de género.\n",
    "    \"\"\"\n",
    "    datos_caracteristicas = [(extraer_caracteristicas(n), genero) for n, genero in nombres]\n",
    "    df_caracteristicas = pd.DataFrame.from_dict(datos_caracteristicas)\n",
    "    df_caracteristicas.columns = ['caracteristicas', 'genero']\n",
    "\n",
    "    # Separa características y etiquetas\n",
    "    X_dict = df_caracteristicas['caracteristicas'].tolist()\n",
    "    y = df_caracteristicas['genero']\n",
    "\n",
    "    # Vectoriza las características de diccionario a numéricas\n",
    "    vectorizer = DictVectorizer(sparse=False)\n",
    "    X = vectorizer.fit_transform(X_dict)\n",
    "\n",
    "    return X, y"
   ]
  },
  {
   "cell_type": "markdown",
   "metadata": {},
   "source": [
    "## Definir Funciones para Entrenar y Clasificar con Gradient Boosting"
   ]
  },
  {
   "cell_type": "code",
   "execution_count": null,
   "metadata": {},
   "outputs": [],
   "source": [
    "def entrenar_clasificador_gb(X_train, y_train):\n",
    "    \"\"\"\n",
    "    Entrena un clasificador Gradient Boosting.\n",
    "    \"\"\"\n",
    "    clasificador_gb = GradientBoostingClassifier(n_estimators=100, learning_rate=0.1, max_depth=3)\n",
    "    clasificador_gb.fit(X_train, y_train)\n",
    "    return clasificador_gb\n",
    "\n",
    "def clasificar_nombre(nombre, clasificador_gb):\n",
    "    \"\"\"\n",
    "    Clasifica un nombre usando el clasificador entrenado.\n",
    "    \"\"\"\n",
    "    caracteristicas_nombre = extraer_caracteristicas(nombre)\n",
    "    # Necesitamos convertir las características a un formato que el clasificador pueda entender\n",
    "    # En este ejemplo simple, podemos simplemente pasar el diccionario de características\n",
    "    prediccion = clasificador_gb.predict([caracteristicas_nombre])\n",
    "    return prediccion[0]"
   ]
  },
  {
   "cell_type": "markdown",
   "metadata": {},
   "source": [
    "## Main: Cargar Datos, Entrenar, Evaluar y Clasificar"
   ]
  },
  {
   "cell_type": "code",
   "execution_count": null,
   "metadata": {},
   "outputs": [],
   "source": [
    "if __name__ == '__main__':\n",
    "    # Datos de ejemplo (nombres y géneros)\n",
    "    nombres_ejemplo = [\n",
    "        ('Juan', 'masculino'),\n",
    "        ('Maria', 'femenino'),\n",
    "        ('Carlos', 'masculino'),\n",
    "        ('Laura', 'femenino'),\n",
    "        ('Pedro', 'masculino'),\n",
    "        ('Sofia', 'femenino'),\n",
    "        ('Jorge', 'masculino'),\n",
    "        ('Valentina', 'femenino'),\n",
    "        ('Luis', 'masculino'),\n",
    "        ('Isabela', 'femenino')\n",
    "    ]\n",
    "\n",
    "    X, y = preparar_datos(nombres_ejemplo)\n",
    "\n",
    "    # Divide los datos en conjuntos de entrenamiento y prueba\n",
    "    X_train, X_test, y_train, y_test = train_test_split(X, y, test_size=0.2, random_state=42)\n",
    "\n",
    "    # Entrena el clasificador Gradient Boosting\n",
    "    clasificador_gb_entrenado = entrenar_clasificador_gb(X_train, y_train)\n",
    "\n",
    "    # Evalúa el clasificador en el conjunto de prueba\n",
    "    y_pred = clasificador_gb_entrenado.predict(X_test)\n",
    "    precision = accuracy_score(y_test, y_pred)\n",
    "    print(f\"Precisión del clasificador en el conjunto de prueba: {precision:.2f}\")\n",
    "\n",
    "    # Validación cruzada\n",
    "    scores_cv = cross_val_score(clasificador_gb_entrenado, X, y, cv=5)\n",
    "    print(\"Puntajes de validación cruzada:\", scores_cv)\n",
    "    print(f\"Precisión media de validación cruzada: {scores_cv.mean():.2f}\")\n",
    "\n",
    "    # Ejemplo de clasificación de nombres nuevos\n",
    "    nombre_prueba_1 = 'Ricardo'\n",
    "    nombre_prueba_2 = 'Daniela'\n",
    "    genero_predicho_1 = clasificar_nombre(nombre_prueba_1, clasificador_gb_entrenado)\n",
    "    genero_predicho_2 = clasificar_nombre(nombre_prueba_2, clasificador_gb_entrenado)\n",
    "\n",
    "    print(f\"El nombre '{nombre_prueba_1}' se clasifica como: {genero_predicho_1}\")\n",
    "    print(f\"El nombre '{nombre_prueba_2}' se clasifica como: {genero_predicho_2}\")"
   ]
  },
  {
   "cell_type": "markdown",
   "metadata": {},
   "source": [
    "Este notebook proporciona una estructura clara y organizada para el clasificador de nombres con Gradient Boosting, facilitando la experimentación y el análisis de los resultados."
   ]
  }
 ],
 "metadata": {
  "kernelspec": {
   "display_name": "Python 3",
   "language": "python",
   "name": "python3"
  },
  "language_info": {
   "codemirror_mode": {
    "name": "ipython",
    "version": 3
   },
   "file_extension": ".py",
   "mimetype": "text/x-python",
   "name": "python",
   "nbconvert_exporter": "python",
   "pygments_lexer": "ipython3",
   "version": "3.8.5"
  }
 },
 "nbformat": 4,
 "nbformat_minor": 4
}
